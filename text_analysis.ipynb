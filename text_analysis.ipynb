{
 "cells": [
  {
   "cell_type": "markdown",
   "metadata": {},
   "source": [
    "# Text Analysis"
   ]
  },
  {
   "cell_type": "markdown",
   "metadata": {},
   "source": [
    "Let's consider a real-life scenario where you are analyzing customer feedback for a product. You have a large data set of customer reviews in the form of strings, and you want to extract useful information from them using the three identified tasks:\n",
    "\n",
    "Task 1. String in lowercase \\\n",
    "Task 2. Frequency of all words in a given string \\\n",
    "Task 3. Frequency of a specific word"
   ]
  },
  {
   "cell_type": "markdown",
   "metadata": {},
   "source": [
    "## Part A"
   ]
  },
  {
   "cell_type": "code",
   "execution_count": 26,
   "metadata": {},
   "outputs": [],
   "source": [
    "# 1: Define a string\n",
    "givenstring=\"The service seems really bad. I thinkg bad review is just accurate.\""
   ]
  },
  {
   "cell_type": "code",
   "execution_count": 27,
   "metadata": {},
   "outputs": [],
   "source": [
    "# 2: Define the class and its attributes\n",
    "class TextAnalyzer(object):\n",
    "    # The __init__ method initializes the class with a 'text' parameter.\n",
    "    # You will store the provided 'text' as an instance variable.\n",
    "    def __init__(self, text):\n",
    "   "
   ]
  },
  {
   "cell_type": "code",
   "execution_count": null,
   "metadata": {},
   "outputs": [],
   "source": [
    "# 3: Implement a code to format the text in lowercase\n",
    "# String in lowercase + removed punctuation\n",
    "# replace(), lower()\n",
    "class TextAnalzer(object):\n",
    "    \n",
    "    def __init__ (self, text):\n",
    "        # remove punctuation\n",
    "        formattedText = text.replace('.','').replace('!','').replace('?','').replace(',','')\n",
    "        \n",
    "        # make text lowercase\n",
    "        formattedText = formattedText.lower()\n",
    "        \n",
    "        self.fmtText = formattedText"
   ]
  },
  {
   "cell_type": "code",
   "execution_count": 28,
   "metadata": {},
   "outputs": [],
   "source": [
    "# 4: Implement a code to count the frequency of all unique words\n",
    "# freqAll(), split()\n",
    "\n",
    "class TextAnalyzer(object):\n",
    "    def __init__(self, text):\n",
    "        # remove punctuation\n",
    "        formated_text = text.replace('.','').replace('!','').replace('?','').replace(',','')\n",
    "\n",
    "        # make text lowercase\n",
    "        formated_text = formated_text.lower()\n",
    "        \n",
    "        self.fmtText = formated_text\n",
    "\n",
    "    def freqAll(self):    \n",
    "        # split text into words\n",
    "        wordList = fmtText.split()\n",
    "\n",
    "        # create dictionary\n",
    "        # Create dictionary\n",
    "        freqMap = {}\n",
    "        for word in set(wordList): # use set to remove duplicates in list\n",
    "            freqMap[word] = wordList.count(word)\n",
    "        \n",
    "        return freqMap\n",
    "\n"
   ]
  },
  {
   "cell_type": "code",
   "execution_count": 29,
   "metadata": {},
   "outputs": [],
   "source": [
    "# 5: Implement a code to count the frequency of a specific word\n",
    "class TextAnalyzer(object):\n",
    "    \n",
    "    def __init__ (self, text):\n",
    "        # remove punctuation\n",
    "        formattedText = text.replace('.','').replace('!','').replace('?','').replace(',','')\n",
    "        \n",
    "        # make text lowercase\n",
    "        formattedText = formattedText.lower()\n",
    "        \n",
    "        self.fmtText = formattedText\n",
    "        \n",
    "    def freqAll(self):        \n",
    "        # split text into words\n",
    "        wordList = self.fmtText.split(' ')\n",
    "        \n",
    "        # Create dictionary\n",
    "        freqMap = {}\n",
    "        for word in set(wordList): # use set to remove duplicates in list\n",
    "            freqMap[word] = wordList.count(word)\n",
    "        \n",
    "        return freqMap\n",
    "    \n",
    "    def freqOf(self,word):\n",
    "        # get frequency map\n",
    "        freqDict = self.freqAll()\n",
    "        \n",
    "        if word in freqDict:\n",
    "            return freqDict[word]\n",
    "        else:\n",
    "            return 0"
   ]
  },
  {
   "cell_type": "markdown",
   "metadata": {},
   "source": [
    "## Part B"
   ]
  },
  {
   "cell_type": "code",
   "execution_count": 30,
   "metadata": {},
   "outputs": [],
   "source": [
    "# 1: Create an instance of TextAnalyzer class\n",
    "analyzed = TextAnalyzer(givenstring)\n"
   ]
  },
  {
   "cell_type": "code",
   "execution_count": 31,
   "metadata": {},
   "outputs": [
    {
     "name": "stdout",
     "output_type": "stream",
     "text": [
      "Formatted Text: the service seems really bad i thinkg bad review is just accurate\n"
     ]
    }
   ],
   "source": [
    "# 2: Call the function that converts the data into lowercase\n",
    "print(\"Formatted Text:\", analyzed.fmtText)"
   ]
  },
  {
   "cell_type": "code",
   "execution_count": 32,
   "metadata": {},
   "outputs": [
    {
     "name": "stdout",
     "output_type": "stream",
     "text": [
      "{'the': 1, 'just': 1, 'accurate': 1, 'thinkg': 1, 'bad': 2, 'review': 1, 'service': 1, 'seems': 1, 'is': 1, 'really': 1, 'i': 1}\n"
     ]
    }
   ],
   "source": [
    "# 3: Call the function that counts the frequency of all unique words from the data\n",
    "freqMap = analyzed.freqAll()\n",
    "print(freqMap)"
   ]
  },
  {
   "cell_type": "code",
   "execution_count": 33,
   "metadata": {},
   "outputs": [
    {
     "name": "stdout",
     "output_type": "stream",
     "text": [
      "The word bad appears 2 times.\n"
     ]
    }
   ],
   "source": [
    "# 4: Call the function that counts the frequency of a specific word\n",
    "word = \"bad\"\n",
    "frequency = analyzed.freqOf(word)\n",
    "print(\"The word\",word,\"appears\",frequency,\"times.\")"
   ]
  }
 ],
 "metadata": {
  "kernelspec": {
   "display_name": "pythonProject3",
   "language": "python",
   "name": "python3"
  },
  "language_info": {
   "codemirror_mode": {
    "name": "ipython",
    "version": 3
   },
   "file_extension": ".py",
   "mimetype": "text/x-python",
   "name": "python",
   "nbconvert_exporter": "python",
   "pygments_lexer": "ipython3",
   "version": "3.8.20"
  }
 },
 "nbformat": 4,
 "nbformat_minor": 2
}
